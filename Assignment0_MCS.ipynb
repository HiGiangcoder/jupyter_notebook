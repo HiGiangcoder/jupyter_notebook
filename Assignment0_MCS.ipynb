{
  "nbformat": 4,
  "nbformat_minor": 0,
  "metadata": {
    "colab": {
      "provenance": [],
      "authorship_tag": "ABX9TyOXzPsWkZuuR0O/dG1b5Xl0",
      "include_colab_link": true
    },
    "kernelspec": {
      "name": "python3",
      "display_name": "Python 3"
    },
    "language_info": {
      "name": "python"
    }
  },
  "cells": [
    {
      "cell_type": "markdown",
      "metadata": {
        "id": "view-in-github",
        "colab_type": "text"
      },
      "source": [
        "<a href=\"https://colab.research.google.com/github/HiGiangcoder/jupyter_notebook/blob/master/Assignment0_MCS.ipynb\" target=\"_parent\"><img src=\"https://colab.research.google.com/assets/colab-badge.svg\" alt=\"Open In Colab\"/></a>"
      ]
    },
    {
      "cell_type": "markdown",
      "source": [
        "# Đây là code demo Decision Tree sử dụng thuật toán ID3."
      ],
      "metadata": {
        "id": "D2EFNEH8VcdE"
      }
    },
    {
      "cell_type": "markdown",
      "source": [
        "## Khai báo các thư viện cần thiết"
      ],
      "metadata": {
        "id": "3o2X3Bw8VqYr"
      }
    },
    {
      "cell_type": "code",
      "execution_count": 7,
      "metadata": {
        "id": "hHTmP9KcTut4"
      },
      "outputs": [],
      "source": [
        "import numpy as np\n",
        "import pandas as pd\n",
        "from sklearn.datasets import load_wine\n",
        "from collections import Counter\n",
        "from sklearn.model_selection import train_test_split\n",
        "from sklearn.metrics import accuracy_score"
      ]
    },
    {
      "cell_type": "markdown",
      "source": [
        "## Xây dựng Entropy và Information Gain"
      ],
      "metadata": {
        "id": "zaHhW6IpUFEw"
      }
    },
    {
      "cell_type": "code",
      "source": [
        "def entropy(y):\n",
        "    counts = Counter(y)\n",
        "    total = len(y)\n",
        "    return -sum((count/total) * np.log2(count/total) for count in counts.values() if count > 0)\n",
        "\n",
        "def information_gain(X_column, y):\n",
        "    parent_entropy = entropy(y)\n",
        "    values = np.unique(X_column)\n",
        "    n = len(y)\n",
        "\n",
        "    weighted_entropy = 0\n",
        "    for v in values:\n",
        "        y_subset = y[X_column == v]\n",
        "        weighted_entropy += (len(y_subset) / n) * entropy(y_subset)\n",
        "\n",
        "    return parent_entropy - weighted_entropy\n"
      ],
      "metadata": {
        "id": "LA2FVbS2UCoS"
      },
      "execution_count": 8,
      "outputs": []
    },
    {
      "cell_type": "markdown",
      "source": [
        "## Node định nghĩa cây"
      ],
      "metadata": {
        "id": "JlkgEJGTURKK"
      }
    },
    {
      "cell_type": "code",
      "source": [
        "class DecisionNode:\n",
        "    def __init__(self, feature=None, children=None, prediction=None):\n",
        "        self.feature = feature\n",
        "        self.children = children or {}\n",
        "        self.prediction = prediction"
      ],
      "metadata": {
        "id": "m-6xQK9yUMXP"
      },
      "execution_count": 9,
      "outputs": []
    },
    {
      "cell_type": "markdown",
      "source": [
        "## Hàm ID3 đệ quy"
      ],
      "metadata": {
        "id": "RI-_It8SUTaG"
      }
    },
    {
      "cell_type": "code",
      "source": [
        "def id3(X, y, features):\n",
        "    # Nếu tất cả nhãn giống nhau\n",
        "    if len(set(y)) == 1:\n",
        "        return DecisionNode(prediction=y[0])\n",
        "\n",
        "    # Nếu hết thuộc tính\n",
        "    if len(features) == 0:\n",
        "        most_common = Counter(y).most_common(1)[0][0]\n",
        "        return DecisionNode(prediction=most_common)\n",
        "\n",
        "    # Chọn feature tốt nhất\n",
        "    gains = [information_gain(X[:, i], y) for i in range(len(features))]\n",
        "    best_idx = np.argmax(gains)\n",
        "    best_feature = features[best_idx]\n",
        "\n",
        "    if gains[best_idx] == 0:\n",
        "        most_common = Counter(y).most_common(1)[0][0]\n",
        "        return DecisionNode(prediction=most_common)\n",
        "\n",
        "    node = DecisionNode(feature=best_feature)\n",
        "    feature_values = np.unique(X[:, best_idx])\n",
        "\n",
        "    for value in feature_values:\n",
        "        mask = X[:, best_idx] == value\n",
        "        child_X = X[mask]\n",
        "        child_y = y[mask]\n",
        "\n",
        "        child_features = features[:best_idx] + features[best_idx+1:]\n",
        "        child_X = np.delete(child_X, best_idx, axis=1)\n",
        "\n",
        "        node.children[value] = id3(child_X, child_y, child_features)\n",
        "\n",
        "    return node"
      ],
      "metadata": {
        "id": "AOt4UP8EUTsh"
      },
      "execution_count": 10,
      "outputs": []
    },
    {
      "cell_type": "markdown",
      "source": [
        "## Hàm dự đoán"
      ],
      "metadata": {
        "id": "KON70JViUc7P"
      }
    },
    {
      "cell_type": "code",
      "source": [
        "def predict_one(node, x, features):\n",
        "    if node.prediction is not None:\n",
        "        return node.prediction\n",
        "    value = x[features.index(node.feature)]\n",
        "    if value in node.children:\n",
        "        child = node.children[value]\n",
        "        new_x = list(x[:features.index(node.feature)] + x[features.index(node.feature)+1:])\n",
        "        new_features = features[:features.index(node.feature)] + features[features.index(node.feature)+1:]\n",
        "        return predict_one(child, new_x, new_features)\n",
        "    else:\n",
        "        # Nếu giá trị chưa xuất hiện trong training thì trả về nhãn phổ biến nhất\n",
        "        predictions = [child.prediction for child in node.children.values() if child.prediction is not None]\n",
        "        if predictions:\n",
        "            return Counter(predictions).most_common(1)[0][0]\n",
        "        return None\n",
        "\n",
        "def predict(node, X, features):\n",
        "    return [predict_one(node, x, features) for x in X]"
      ],
      "metadata": {
        "id": "mFjAOSpDUeyH"
      },
      "execution_count": 11,
      "outputs": []
    },
    {
      "cell_type": "markdown",
      "source": [
        "## Demo với Wine dataset"
      ],
      "metadata": {
        "id": "KNX3eNW1Ul8_"
      }
    },
    {
      "cell_type": "code",
      "source": [
        "data = load_wine()\n",
        "X, y = data.data, data.target\n",
        "feature_names = data.feature_names\n",
        "\n",
        "# Rời rạc hóa (binning): chia mỗi feature thành 2 bin (<= median, > median)\n",
        "X_binned = np.zeros_like(X, dtype=str)\n",
        "for i in range(X.shape[1]):\n",
        "    median = np.median(X[:, i])\n",
        "    X_binned[:, i] = np.where(X[:, i] <= median, f\"{feature_names[i]}<=median\", f\"{feature_names[i]}>median\")\n",
        "\n",
        "X_train, X_test, y_train, y_test = train_test_split(X_binned, y, test_size=0.3, random_state=24520011)\n",
        "\n",
        "\n",
        "# Huấn luyện ID3\n",
        "tree = id3(X_train, y_train, features)\n",
        "\n",
        "# Dự đoán\n",
        "y_pred = predict(tree, X_test, features)\n",
        "\n",
        "# Đánh giá\n",
        "acc = accuracy_score(y_test, y_pred)\n",
        "print(\"Độ chính xác (accuracy):\", acc)"
      ],
      "metadata": {
        "colab": {
          "base_uri": "https://localhost:8080/"
        },
        "id": "7RrIp5eYUq6G",
        "outputId": "db9a9601-5936-44e0-8b94-e431b1da2bf9"
      },
      "execution_count": 12,
      "outputs": [
        {
          "output_type": "stream",
          "name": "stdout",
          "text": [
            "Độ chính xác (accuracy): 0.37037037037037035\n"
          ]
        }
      ]
    }
  ]
}