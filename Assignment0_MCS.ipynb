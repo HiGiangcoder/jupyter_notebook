{
  "nbformat": 4,
  "nbformat_minor": 0,
  "metadata": {
    "colab": {
      "provenance": [],
      "authorship_tag": "ABX9TyNQ19VUjjWBgQ10/qgc2ocR",
      "include_colab_link": true
    },
    "kernelspec": {
      "name": "python3",
      "display_name": "Python 3"
    },
    "language_info": {
      "name": "python"
    }
  },
  "cells": [
    {
      "cell_type": "markdown",
      "metadata": {
        "id": "view-in-github",
        "colab_type": "text"
      },
      "source": [
        "<a href=\"https://colab.research.google.com/github/HiGiangcoder/jupyter_notebook/blob/master/Assignment0_MCS.ipynb\" target=\"_parent\"><img src=\"https://colab.research.google.com/assets/colab-badge.svg\" alt=\"Open In Colab\"/></a>"
      ]
    },
    {
      "cell_type": "code",
      "execution_count": 1,
      "metadata": {
        "id": "hHTmP9KcTut4"
      },
      "outputs": [],
      "source": [
        "import numpy as np\n",
        "import pandas as pd\n",
        "from sklearn.datasets import load_wine\n",
        "from collections import Counter\n",
        "from sklearn.model_selection import train_test_split\n",
        "from sklearn.metrics import accuracy_score"
      ]
    },
    {
      "cell_type": "markdown",
      "source": [
        "## Xây dựng Entropy và Information Gain"
      ],
      "metadata": {
        "id": "zaHhW6IpUFEw"
      }
    },
    {
      "cell_type": "code",
      "source": [
        "def entropy(y):\n",
        "    counts = Counter(y)\n",
        "    total = len(y)\n",
        "    return -sum((count/total) * np.log2(count/total) for count in counts.values() if count > 0)\n",
        "\n",
        "def information_gain(X_column, y):\n",
        "    parent_entropy = entropy(y)\n",
        "    values = np.unique(X_column)\n",
        "    n = len(y)\n",
        "\n",
        "    weighted_entropy = 0\n",
        "    for v in values:\n",
        "        y_subset = y[X_column == v]\n",
        "        weighted_entropy += (len(y_subset) / n) * entropy(y_subset)\n",
        "\n",
        "    return parent_entropy - weighted_entropy\n"
      ],
      "metadata": {
        "id": "LA2FVbS2UCoS"
      },
      "execution_count": 2,
      "outputs": []
    },
    {
      "cell_type": "markdown",
      "source": [
        "## Node định nghĩa cây"
      ],
      "metadata": {
        "id": "JlkgEJGTURKK"
      }
    },
    {
      "cell_type": "code",
      "source": [
        "class DecisionNode:\n",
        "    def __init__(self, feature=None, children=None, prediction=None):\n",
        "        self.feature = feature\n",
        "        self.children = children or {}\n",
        "        self.prediction = prediction"
      ],
      "metadata": {
        "id": "m-6xQK9yUMXP"
      },
      "execution_count": 3,
      "outputs": []
    },
    {
      "cell_type": "markdown",
      "source": [
        "## Hàm ID3 đệ quy"
      ],
      "metadata": {
        "id": "RI-_It8SUTaG"
      }
    },
    {
      "cell_type": "code",
      "source": [
        "def id3(X, y, features):\n",
        "    # Nếu tất cả nhãn giống nhau\n",
        "    if len(set(y)) == 1:\n",
        "        return DecisionNode(prediction=y[0])\n",
        "\n",
        "    # Nếu hết thuộc tính\n",
        "    if len(features) == 0:\n",
        "        most_common = Counter(y).most_common(1)[0][0]\n",
        "        return DecisionNode(prediction=most_common)\n",
        "\n",
        "    # Chọn feature tốt nhất\n",
        "    gains = [information_gain(X[:, i], y) for i in range(len(features))]\n",
        "    best_idx = np.argmax(gains)\n",
        "    best_feature = features[best_idx]\n",
        "\n",
        "    if gains[best_idx] == 0:\n",
        "        most_common = Counter(y).most_common(1)[0][0]\n",
        "        return DecisionNode(prediction=most_common)\n",
        "\n",
        "    node = DecisionNode(feature=best_feature)\n",
        "    feature_values = np.unique(X[:, best_idx])\n",
        "\n",
        "    for value in feature_values:\n",
        "        mask = X[:, best_idx] == value\n",
        "        child_X = X[mask]\n",
        "        child_y = y[mask]\n",
        "\n",
        "        child_features = features[:best_idx] + features[best_idx+1:]\n",
        "        child_X = np.delete(child_X, best_idx, axis=1)\n",
        "\n",
        "        node.children[value] = id3(child_X, child_y, child_features)\n",
        "\n",
        "    return node"
      ],
      "metadata": {
        "id": "AOt4UP8EUTsh"
      },
      "execution_count": 4,
      "outputs": []
    },
    {
      "cell_type": "markdown",
      "source": [
        "## Hàm dự đoán"
      ],
      "metadata": {
        "id": "KON70JViUc7P"
      }
    },
    {
      "cell_type": "code",
      "source": [
        "def predict_one(node, x, features):\n",
        "    if node.prediction is not None:\n",
        "        return node.prediction\n",
        "    value = x[features.index(node.feature)]\n",
        "    if value in node.children:\n",
        "        child = node.children[value]\n",
        "        new_x = list(x[:features.index(node.feature)] + x[features.index(node.feature)+1:])\n",
        "        new_features = features[:features.index(node.feature)] + features[features.index(node.feature)+1:]\n",
        "        return predict_one(child, new_x, new_features)\n",
        "    else:\n",
        "        # Nếu giá trị chưa xuất hiện trong training thì trả về nhãn phổ biến nhất\n",
        "        predictions = [child.prediction for child in node.children.values() if child.prediction is not None]\n",
        "        if predictions:\n",
        "            return Counter(predictions).most_common(1)[0][0]\n",
        "        return None\n",
        "\n",
        "def predict(node, X, features):\n",
        "    return [predict_one(node, x, features) for x in X]"
      ],
      "metadata": {
        "id": "mFjAOSpDUeyH"
      },
      "execution_count": 5,
      "outputs": []
    },
    {
      "cell_type": "markdown",
      "source": [
        "## Demo với Wine dataset"
      ],
      "metadata": {
        "id": "KNX3eNW1Ul8_"
      }
    },
    {
      "cell_type": "code",
      "source": [
        "data = load_wine()\n",
        "df = pd.DataFrame(data.data, columns=data.feature_names)\n",
        "df['target'] = data.target\n",
        "\n",
        "# Rời rạc hóa: chia mỗi cột thành 3 bins (low, medium, high)\n",
        "df_discrete = df.copy()\n",
        "for col in data.feature_names:\n",
        "    df_discrete[col] = pd.qcut(df[col], q=3, labels=[0,1,2])\n",
        "\n",
        "X = df_discrete[data.feature_names].values\n",
        "y = df_discrete['target'].values\n",
        "features = list(data.feature_names)\n",
        "\n",
        "# Chia train/test\n",
        "X_train, X_test, y_train, y_test = train_test_split(X, y, test_size=0.2, random_state=42)\n",
        "\n",
        "# Huấn luyện ID3\n",
        "tree = id3(X_train, y_train, features)\n",
        "\n",
        "# Dự đoán\n",
        "y_pred = predict(tree, X_test, features)\n",
        "\n",
        "# Đánh giá\n",
        "acc = accuracy_score(y_test, y_pred)\n",
        "print(\"Độ chính xác (accuracy):\", acc)"
      ],
      "metadata": {
        "colab": {
          "base_uri": "https://localhost:8080/",
          "height": 356
        },
        "id": "7RrIp5eYUq6G",
        "outputId": "a846989f-5747-4167-e4a7-ec7ff12cbaa8"
      },
      "execution_count": 6,
      "outputs": [
        {
          "output_type": "error",
          "ename": "IndexError",
          "evalue": "list index out of range",
          "traceback": [
            "\u001b[0;31m---------------------------------------------------------------------------\u001b[0m",
            "\u001b[0;31mIndexError\u001b[0m                                Traceback (most recent call last)",
            "\u001b[0;32m/tmp/ipython-input-2387001800.py\u001b[0m in \u001b[0;36m<cell line: 0>\u001b[0;34m()\u001b[0m\n\u001b[1;32m     19\u001b[0m \u001b[0;34m\u001b[0m\u001b[0m\n\u001b[1;32m     20\u001b[0m \u001b[0;31m# Dự đoán\u001b[0m\u001b[0;34m\u001b[0m\u001b[0;34m\u001b[0m\u001b[0m\n\u001b[0;32m---> 21\u001b[0;31m \u001b[0my_pred\u001b[0m \u001b[0;34m=\u001b[0m \u001b[0mpredict\u001b[0m\u001b[0;34m(\u001b[0m\u001b[0mtree\u001b[0m\u001b[0;34m,\u001b[0m \u001b[0mX_test\u001b[0m\u001b[0;34m,\u001b[0m \u001b[0mfeatures\u001b[0m\u001b[0;34m)\u001b[0m\u001b[0;34m\u001b[0m\u001b[0;34m\u001b[0m\u001b[0m\n\u001b[0m\u001b[1;32m     22\u001b[0m \u001b[0;34m\u001b[0m\u001b[0m\n\u001b[1;32m     23\u001b[0m \u001b[0;31m# Đánh giá\u001b[0m\u001b[0;34m\u001b[0m\u001b[0;34m\u001b[0m\u001b[0m\n",
            "\u001b[0;32m/tmp/ipython-input-33188997.py\u001b[0m in \u001b[0;36mpredict\u001b[0;34m(node, X, features)\u001b[0m\n\u001b[1;32m     16\u001b[0m \u001b[0;34m\u001b[0m\u001b[0m\n\u001b[1;32m     17\u001b[0m \u001b[0;32mdef\u001b[0m \u001b[0mpredict\u001b[0m\u001b[0;34m(\u001b[0m\u001b[0mnode\u001b[0m\u001b[0;34m,\u001b[0m \u001b[0mX\u001b[0m\u001b[0;34m,\u001b[0m \u001b[0mfeatures\u001b[0m\u001b[0;34m)\u001b[0m\u001b[0;34m:\u001b[0m\u001b[0;34m\u001b[0m\u001b[0;34m\u001b[0m\u001b[0m\n\u001b[0;32m---> 18\u001b[0;31m     \u001b[0;32mreturn\u001b[0m \u001b[0;34m[\u001b[0m\u001b[0mpredict_one\u001b[0m\u001b[0;34m(\u001b[0m\u001b[0mnode\u001b[0m\u001b[0;34m,\u001b[0m \u001b[0mx\u001b[0m\u001b[0;34m,\u001b[0m \u001b[0mfeatures\u001b[0m\u001b[0;34m)\u001b[0m \u001b[0;32mfor\u001b[0m \u001b[0mx\u001b[0m \u001b[0;32min\u001b[0m \u001b[0mX\u001b[0m\u001b[0;34m]\u001b[0m\u001b[0;34m\u001b[0m\u001b[0;34m\u001b[0m\u001b[0m\n\u001b[0m",
            "\u001b[0;32m/tmp/ipython-input-33188997.py\u001b[0m in \u001b[0;36mpredict_one\u001b[0;34m(node, x, features)\u001b[0m\n\u001b[1;32m      7\u001b[0m         \u001b[0mnew_x\u001b[0m \u001b[0;34m=\u001b[0m \u001b[0mlist\u001b[0m\u001b[0;34m(\u001b[0m\u001b[0mx\u001b[0m\u001b[0;34m[\u001b[0m\u001b[0;34m:\u001b[0m\u001b[0mfeatures\u001b[0m\u001b[0;34m.\u001b[0m\u001b[0mindex\u001b[0m\u001b[0;34m(\u001b[0m\u001b[0mnode\u001b[0m\u001b[0;34m.\u001b[0m\u001b[0mfeature\u001b[0m\u001b[0;34m)\u001b[0m\u001b[0;34m]\u001b[0m \u001b[0;34m+\u001b[0m \u001b[0mx\u001b[0m\u001b[0;34m[\u001b[0m\u001b[0mfeatures\u001b[0m\u001b[0;34m.\u001b[0m\u001b[0mindex\u001b[0m\u001b[0;34m(\u001b[0m\u001b[0mnode\u001b[0m\u001b[0;34m.\u001b[0m\u001b[0mfeature\u001b[0m\u001b[0;34m)\u001b[0m\u001b[0;34m+\u001b[0m\u001b[0;36m1\u001b[0m\u001b[0;34m:\u001b[0m\u001b[0;34m]\u001b[0m\u001b[0;34m)\u001b[0m\u001b[0;34m\u001b[0m\u001b[0;34m\u001b[0m\u001b[0m\n\u001b[1;32m      8\u001b[0m         \u001b[0mnew_features\u001b[0m \u001b[0;34m=\u001b[0m \u001b[0mfeatures\u001b[0m\u001b[0;34m[\u001b[0m\u001b[0;34m:\u001b[0m\u001b[0mfeatures\u001b[0m\u001b[0;34m.\u001b[0m\u001b[0mindex\u001b[0m\u001b[0;34m(\u001b[0m\u001b[0mnode\u001b[0m\u001b[0;34m.\u001b[0m\u001b[0mfeature\u001b[0m\u001b[0;34m)\u001b[0m\u001b[0;34m]\u001b[0m \u001b[0;34m+\u001b[0m \u001b[0mfeatures\u001b[0m\u001b[0;34m[\u001b[0m\u001b[0mfeatures\u001b[0m\u001b[0;34m.\u001b[0m\u001b[0mindex\u001b[0m\u001b[0;34m(\u001b[0m\u001b[0mnode\u001b[0m\u001b[0;34m.\u001b[0m\u001b[0mfeature\u001b[0m\u001b[0;34m)\u001b[0m\u001b[0;34m+\u001b[0m\u001b[0;36m1\u001b[0m\u001b[0;34m:\u001b[0m\u001b[0;34m]\u001b[0m\u001b[0;34m\u001b[0m\u001b[0;34m\u001b[0m\u001b[0m\n\u001b[0;32m----> 9\u001b[0;31m         \u001b[0;32mreturn\u001b[0m \u001b[0mpredict_one\u001b[0m\u001b[0;34m(\u001b[0m\u001b[0mchild\u001b[0m\u001b[0;34m,\u001b[0m \u001b[0mnew_x\u001b[0m\u001b[0;34m,\u001b[0m \u001b[0mnew_features\u001b[0m\u001b[0;34m)\u001b[0m\u001b[0;34m\u001b[0m\u001b[0;34m\u001b[0m\u001b[0m\n\u001b[0m\u001b[1;32m     10\u001b[0m     \u001b[0;32melse\u001b[0m\u001b[0;34m:\u001b[0m\u001b[0;34m\u001b[0m\u001b[0;34m\u001b[0m\u001b[0m\n\u001b[1;32m     11\u001b[0m         \u001b[0;31m# Nếu giá trị chưa xuất hiện trong training thì trả về nhãn phổ biến nhất\u001b[0m\u001b[0;34m\u001b[0m\u001b[0;34m\u001b[0m\u001b[0m\n",
            "\u001b[0;32m/tmp/ipython-input-33188997.py\u001b[0m in \u001b[0;36mpredict_one\u001b[0;34m(node, x, features)\u001b[0m\n\u001b[1;32m      2\u001b[0m     \u001b[0;32mif\u001b[0m \u001b[0mnode\u001b[0m\u001b[0;34m.\u001b[0m\u001b[0mprediction\u001b[0m \u001b[0;32mis\u001b[0m \u001b[0;32mnot\u001b[0m \u001b[0;32mNone\u001b[0m\u001b[0;34m:\u001b[0m\u001b[0;34m\u001b[0m\u001b[0;34m\u001b[0m\u001b[0m\n\u001b[1;32m      3\u001b[0m         \u001b[0;32mreturn\u001b[0m \u001b[0mnode\u001b[0m\u001b[0;34m.\u001b[0m\u001b[0mprediction\u001b[0m\u001b[0;34m\u001b[0m\u001b[0;34m\u001b[0m\u001b[0m\n\u001b[0;32m----> 4\u001b[0;31m     \u001b[0mvalue\u001b[0m \u001b[0;34m=\u001b[0m \u001b[0mx\u001b[0m\u001b[0;34m[\u001b[0m\u001b[0mfeatures\u001b[0m\u001b[0;34m.\u001b[0m\u001b[0mindex\u001b[0m\u001b[0;34m(\u001b[0m\u001b[0mnode\u001b[0m\u001b[0;34m.\u001b[0m\u001b[0mfeature\u001b[0m\u001b[0;34m)\u001b[0m\u001b[0;34m]\u001b[0m\u001b[0;34m\u001b[0m\u001b[0;34m\u001b[0m\u001b[0m\n\u001b[0m\u001b[1;32m      5\u001b[0m     \u001b[0;32mif\u001b[0m \u001b[0mvalue\u001b[0m \u001b[0;32min\u001b[0m \u001b[0mnode\u001b[0m\u001b[0;34m.\u001b[0m\u001b[0mchildren\u001b[0m\u001b[0;34m:\u001b[0m\u001b[0;34m\u001b[0m\u001b[0;34m\u001b[0m\u001b[0m\n\u001b[1;32m      6\u001b[0m         \u001b[0mchild\u001b[0m \u001b[0;34m=\u001b[0m \u001b[0mnode\u001b[0m\u001b[0;34m.\u001b[0m\u001b[0mchildren\u001b[0m\u001b[0;34m[\u001b[0m\u001b[0mvalue\u001b[0m\u001b[0;34m]\u001b[0m\u001b[0;34m\u001b[0m\u001b[0;34m\u001b[0m\u001b[0m\n",
            "\u001b[0;31mIndexError\u001b[0m: list index out of range"
          ]
        }
      ]
    }
  ]
}